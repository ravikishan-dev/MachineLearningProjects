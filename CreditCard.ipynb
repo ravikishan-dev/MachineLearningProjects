{
  "nbformat": 4,
  "nbformat_minor": 0,
  "metadata": {
    "colab": {
      "name": "CreditCard.ipynb",
      "provenance": []
    },
    "kernelspec": {
      "name": "python3",
      "display_name": "Python 3"
    },
    "accelerator": "GPU"
  },
  "cells": [
    {
      "cell_type": "code",
      "metadata": {
        "id": "vPDGFPDokmX4",
        "colab_type": "code",
        "colab": {
          "base_uri": "https://localhost:8080/",
          "height": 129
        },
        "outputId": "dffec482-13b8-44bf-ec1f-cc7889995010"
      },
      "source": [
        "from google.colab import drive\n",
        "drive.mount('/content/drive')"
      ],
      "execution_count": 1,
      "outputs": [
        {
          "output_type": "stream",
          "text": [
            "Go to this URL in a browser: https://accounts.google.com/o/oauth2/auth?client_id=947318989803-6bn6qk8qdgf4n4g3pfee6491hc0brc4i.apps.googleusercontent.com&redirect_uri=urn%3aietf%3awg%3aoauth%3a2.0%3aoob&response_type=code&scope=email%20https%3a%2f%2fwww.googleapis.com%2fauth%2fdocs.test%20https%3a%2f%2fwww.googleapis.com%2fauth%2fdrive%20https%3a%2f%2fwww.googleapis.com%2fauth%2fdrive.photos.readonly%20https%3a%2f%2fwww.googleapis.com%2fauth%2fpeopleapi.readonly\n",
            "\n",
            "Enter your authorization code:\n",
            "··········\n",
            "Mounted at /content/drive\n"
          ],
          "name": "stdout"
        }
      ]
    },
    {
      "cell_type": "code",
      "metadata": {
        "id": "zIxcUR_71LO_",
        "colab_type": "code",
        "colab": {
          "base_uri": "https://localhost:8080/",
          "height": 74
        },
        "outputId": "724391f5-29b1-47eb-f075-69a18e0f0702"
      },
      "source": [
        "import numpy as np\n",
        "import pandas as pd\n",
        "import sklearn\n",
        "import matplotlib.pyplot as plt\n",
        "import seaborn as sns\n",
        "from sklearn.ensemble import IsolationForest\n",
        "LABELS = [\"Normal\", \"Fraud\"]"
      ],
      "execution_count": 1,
      "outputs": [
        {
          "output_type": "stream",
          "text": [
            "/usr/local/lib/python3.6/dist-packages/statsmodels/tools/_testing.py:19: FutureWarning: pandas.util.testing is deprecated. Use the functions in the public API at pandas.testing instead.\n",
            "  import pandas.util.testing as tm\n"
          ],
          "name": "stderr"
        }
      ]
    },
    {
      "cell_type": "code",
      "metadata": {
        "id": "gjlKHRyb1LS6",
        "colab_type": "code",
        "colab": {
          "base_uri": "https://localhost:8080/",
          "height": 226
        },
        "outputId": "e82c47ba-8557-4014-ec89-3c1f63c407ad"
      },
      "source": [
        "data = pd.read_csv('/content/drive/My Drive/Colab Notebooks/creditcard/creditcard.csv')\n",
        "data.head()"
      ],
      "execution_count": 2,
      "outputs": [
        {
          "output_type": "execute_result",
          "data": {
            "text/html": [
              "<div>\n",
              "<style scoped>\n",
              "    .dataframe tbody tr th:only-of-type {\n",
              "        vertical-align: middle;\n",
              "    }\n",
              "\n",
              "    .dataframe tbody tr th {\n",
              "        vertical-align: top;\n",
              "    }\n",
              "\n",
              "    .dataframe thead th {\n",
              "        text-align: right;\n",
              "    }\n",
              "</style>\n",
              "<table border=\"1\" class=\"dataframe\">\n",
              "  <thead>\n",
              "    <tr style=\"text-align: right;\">\n",
              "      <th></th>\n",
              "      <th>Time</th>\n",
              "      <th>V1</th>\n",
              "      <th>V2</th>\n",
              "      <th>V3</th>\n",
              "      <th>V4</th>\n",
              "      <th>V5</th>\n",
              "      <th>V6</th>\n",
              "      <th>V7</th>\n",
              "      <th>V8</th>\n",
              "      <th>V9</th>\n",
              "      <th>V10</th>\n",
              "      <th>V11</th>\n",
              "      <th>V12</th>\n",
              "      <th>V13</th>\n",
              "      <th>V14</th>\n",
              "      <th>V15</th>\n",
              "      <th>V16</th>\n",
              "      <th>V17</th>\n",
              "      <th>V18</th>\n",
              "      <th>V19</th>\n",
              "      <th>V20</th>\n",
              "      <th>V21</th>\n",
              "      <th>V22</th>\n",
              "      <th>V23</th>\n",
              "      <th>V24</th>\n",
              "      <th>V25</th>\n",
              "      <th>V26</th>\n",
              "      <th>V27</th>\n",
              "      <th>V28</th>\n",
              "      <th>Amount</th>\n",
              "      <th>Class</th>\n",
              "    </tr>\n",
              "  </thead>\n",
              "  <tbody>\n",
              "    <tr>\n",
              "      <th>0</th>\n",
              "      <td>0.0</td>\n",
              "      <td>-1.359807</td>\n",
              "      <td>-0.072781</td>\n",
              "      <td>2.536347</td>\n",
              "      <td>1.378155</td>\n",
              "      <td>-0.338321</td>\n",
              "      <td>0.462388</td>\n",
              "      <td>0.239599</td>\n",
              "      <td>0.098698</td>\n",
              "      <td>0.363787</td>\n",
              "      <td>0.090794</td>\n",
              "      <td>-0.551600</td>\n",
              "      <td>-0.617801</td>\n",
              "      <td>-0.991390</td>\n",
              "      <td>-0.311169</td>\n",
              "      <td>1.468177</td>\n",
              "      <td>-0.470401</td>\n",
              "      <td>0.207971</td>\n",
              "      <td>0.025791</td>\n",
              "      <td>0.403993</td>\n",
              "      <td>0.251412</td>\n",
              "      <td>-0.018307</td>\n",
              "      <td>0.277838</td>\n",
              "      <td>-0.110474</td>\n",
              "      <td>0.066928</td>\n",
              "      <td>0.128539</td>\n",
              "      <td>-0.189115</td>\n",
              "      <td>0.133558</td>\n",
              "      <td>-0.021053</td>\n",
              "      <td>149.62</td>\n",
              "      <td>0</td>\n",
              "    </tr>\n",
              "    <tr>\n",
              "      <th>1</th>\n",
              "      <td>0.0</td>\n",
              "      <td>1.191857</td>\n",
              "      <td>0.266151</td>\n",
              "      <td>0.166480</td>\n",
              "      <td>0.448154</td>\n",
              "      <td>0.060018</td>\n",
              "      <td>-0.082361</td>\n",
              "      <td>-0.078803</td>\n",
              "      <td>0.085102</td>\n",
              "      <td>-0.255425</td>\n",
              "      <td>-0.166974</td>\n",
              "      <td>1.612727</td>\n",
              "      <td>1.065235</td>\n",
              "      <td>0.489095</td>\n",
              "      <td>-0.143772</td>\n",
              "      <td>0.635558</td>\n",
              "      <td>0.463917</td>\n",
              "      <td>-0.114805</td>\n",
              "      <td>-0.183361</td>\n",
              "      <td>-0.145783</td>\n",
              "      <td>-0.069083</td>\n",
              "      <td>-0.225775</td>\n",
              "      <td>-0.638672</td>\n",
              "      <td>0.101288</td>\n",
              "      <td>-0.339846</td>\n",
              "      <td>0.167170</td>\n",
              "      <td>0.125895</td>\n",
              "      <td>-0.008983</td>\n",
              "      <td>0.014724</td>\n",
              "      <td>2.69</td>\n",
              "      <td>0</td>\n",
              "    </tr>\n",
              "    <tr>\n",
              "      <th>2</th>\n",
              "      <td>1.0</td>\n",
              "      <td>-1.358354</td>\n",
              "      <td>-1.340163</td>\n",
              "      <td>1.773209</td>\n",
              "      <td>0.379780</td>\n",
              "      <td>-0.503198</td>\n",
              "      <td>1.800499</td>\n",
              "      <td>0.791461</td>\n",
              "      <td>0.247676</td>\n",
              "      <td>-1.514654</td>\n",
              "      <td>0.207643</td>\n",
              "      <td>0.624501</td>\n",
              "      <td>0.066084</td>\n",
              "      <td>0.717293</td>\n",
              "      <td>-0.165946</td>\n",
              "      <td>2.345865</td>\n",
              "      <td>-2.890083</td>\n",
              "      <td>1.109969</td>\n",
              "      <td>-0.121359</td>\n",
              "      <td>-2.261857</td>\n",
              "      <td>0.524980</td>\n",
              "      <td>0.247998</td>\n",
              "      <td>0.771679</td>\n",
              "      <td>0.909412</td>\n",
              "      <td>-0.689281</td>\n",
              "      <td>-0.327642</td>\n",
              "      <td>-0.139097</td>\n",
              "      <td>-0.055353</td>\n",
              "      <td>-0.059752</td>\n",
              "      <td>378.66</td>\n",
              "      <td>0</td>\n",
              "    </tr>\n",
              "    <tr>\n",
              "      <th>3</th>\n",
              "      <td>1.0</td>\n",
              "      <td>-0.966272</td>\n",
              "      <td>-0.185226</td>\n",
              "      <td>1.792993</td>\n",
              "      <td>-0.863291</td>\n",
              "      <td>-0.010309</td>\n",
              "      <td>1.247203</td>\n",
              "      <td>0.237609</td>\n",
              "      <td>0.377436</td>\n",
              "      <td>-1.387024</td>\n",
              "      <td>-0.054952</td>\n",
              "      <td>-0.226487</td>\n",
              "      <td>0.178228</td>\n",
              "      <td>0.507757</td>\n",
              "      <td>-0.287924</td>\n",
              "      <td>-0.631418</td>\n",
              "      <td>-1.059647</td>\n",
              "      <td>-0.684093</td>\n",
              "      <td>1.965775</td>\n",
              "      <td>-1.232622</td>\n",
              "      <td>-0.208038</td>\n",
              "      <td>-0.108300</td>\n",
              "      <td>0.005274</td>\n",
              "      <td>-0.190321</td>\n",
              "      <td>-1.175575</td>\n",
              "      <td>0.647376</td>\n",
              "      <td>-0.221929</td>\n",
              "      <td>0.062723</td>\n",
              "      <td>0.061458</td>\n",
              "      <td>123.50</td>\n",
              "      <td>0</td>\n",
              "    </tr>\n",
              "    <tr>\n",
              "      <th>4</th>\n",
              "      <td>2.0</td>\n",
              "      <td>-1.158233</td>\n",
              "      <td>0.877737</td>\n",
              "      <td>1.548718</td>\n",
              "      <td>0.403034</td>\n",
              "      <td>-0.407193</td>\n",
              "      <td>0.095921</td>\n",
              "      <td>0.592941</td>\n",
              "      <td>-0.270533</td>\n",
              "      <td>0.817739</td>\n",
              "      <td>0.753074</td>\n",
              "      <td>-0.822843</td>\n",
              "      <td>0.538196</td>\n",
              "      <td>1.345852</td>\n",
              "      <td>-1.119670</td>\n",
              "      <td>0.175121</td>\n",
              "      <td>-0.451449</td>\n",
              "      <td>-0.237033</td>\n",
              "      <td>-0.038195</td>\n",
              "      <td>0.803487</td>\n",
              "      <td>0.408542</td>\n",
              "      <td>-0.009431</td>\n",
              "      <td>0.798278</td>\n",
              "      <td>-0.137458</td>\n",
              "      <td>0.141267</td>\n",
              "      <td>-0.206010</td>\n",
              "      <td>0.502292</td>\n",
              "      <td>0.219422</td>\n",
              "      <td>0.215153</td>\n",
              "      <td>69.99</td>\n",
              "      <td>0</td>\n",
              "    </tr>\n",
              "  </tbody>\n",
              "</table>\n",
              "</div>"
            ],
            "text/plain": [
              "   Time        V1        V2        V3  ...       V27       V28  Amount  Class\n",
              "0   0.0 -1.359807 -0.072781  2.536347  ...  0.133558 -0.021053  149.62      0\n",
              "1   0.0  1.191857  0.266151  0.166480  ... -0.008983  0.014724    2.69      0\n",
              "2   1.0 -1.358354 -1.340163  1.773209  ... -0.055353 -0.059752  378.66      0\n",
              "3   1.0 -0.966272 -0.185226  1.792993  ...  0.062723  0.061458  123.50      0\n",
              "4   2.0 -1.158233  0.877737  1.548718  ...  0.219422  0.215153   69.99      0\n",
              "\n",
              "[5 rows x 31 columns]"
            ]
          },
          "metadata": {
            "tags": []
          },
          "execution_count": 2
        }
      ]
    },
    {
      "cell_type": "code",
      "metadata": {
        "id": "E1SRSQGU1rQl",
        "colab_type": "code",
        "colab": {
          "base_uri": "https://localhost:8080/",
          "height": 35
        },
        "outputId": "793829e1-1347-4185-c2c2-415933c57e01"
      },
      "source": [
        "data.isnull().values.any()"
      ],
      "execution_count": 3,
      "outputs": [
        {
          "output_type": "execute_result",
          "data": {
            "text/plain": [
              "False"
            ]
          },
          "metadata": {
            "tags": []
          },
          "execution_count": 3
        }
      ]
    },
    {
      "cell_type": "code",
      "metadata": {
        "id": "ug1mT7PI2c0q",
        "colab_type": "code",
        "colab": {
          "base_uri": "https://localhost:8080/",
          "height": 35
        },
        "outputId": "d722b0ed-c22d-471b-81f9-9a542b973ef5"
      },
      "source": [
        "fraud = data[data['Class']==1]\n",
        "\n",
        "normal = data[data['Class']==0]\n",
        "print(fraud.shape,normal.shape)"
      ],
      "execution_count": 4,
      "outputs": [
        {
          "output_type": "stream",
          "text": [
            "(492, 31) (284315, 31)\n"
          ],
          "name": "stdout"
        }
      ]
    },
    {
      "cell_type": "code",
      "metadata": {
        "id": "H7dCDLhz2mjg",
        "colab_type": "code",
        "colab": {
          "base_uri": "https://localhost:8080/",
          "height": 35
        },
        "outputId": "6105f3b3-2e7e-404b-8a2c-f92c562b55e8"
      },
      "source": [
        "data1= data.sample(frac = 0.5,random_state=5)\n",
        "\n",
        "data1.shape"
      ],
      "execution_count": 5,
      "outputs": [
        {
          "output_type": "execute_result",
          "data": {
            "text/plain": [
              "(142404, 31)"
            ]
          },
          "metadata": {
            "tags": []
          },
          "execution_count": 5
        }
      ]
    },
    {
      "cell_type": "code",
      "metadata": {
        "id": "7ijEmCYQ3WK3",
        "colab_type": "code",
        "colab": {
          "base_uri": "https://localhost:8080/",
          "height": 35
        },
        "outputId": "91584e1d-b81b-4f15-86fb-bbdaa91a4842"
      },
      "source": [
        "Fraud = data1[data1['Class']==1]\n",
        "Valid = data1[data1['Class']==0]\n",
        "print(Fraud.shape,Valid.shape)"
      ],
      "execution_count": 6,
      "outputs": [
        {
          "output_type": "stream",
          "text": [
            "(239, 31) (142165, 31)\n"
          ],
          "name": "stdout"
        }
      ]
    },
    {
      "cell_type": "code",
      "metadata": {
        "id": "ANAbrrPK4rMT",
        "colab_type": "code",
        "colab": {
          "base_uri": "https://localhost:8080/",
          "height": 226
        },
        "outputId": "6390c1c6-7e3c-4ab8-a0a0-27ad3c0b9878"
      },
      "source": [
        "X=data1.iloc[:,0:-1]\n",
        "y=data1.iloc[: , -1]\n",
        "X.head()"
      ],
      "execution_count": 7,
      "outputs": [
        {
          "output_type": "execute_result",
          "data": {
            "text/html": [
              "<div>\n",
              "<style scoped>\n",
              "    .dataframe tbody tr th:only-of-type {\n",
              "        vertical-align: middle;\n",
              "    }\n",
              "\n",
              "    .dataframe tbody tr th {\n",
              "        vertical-align: top;\n",
              "    }\n",
              "\n",
              "    .dataframe thead th {\n",
              "        text-align: right;\n",
              "    }\n",
              "</style>\n",
              "<table border=\"1\" class=\"dataframe\">\n",
              "  <thead>\n",
              "    <tr style=\"text-align: right;\">\n",
              "      <th></th>\n",
              "      <th>Time</th>\n",
              "      <th>V1</th>\n",
              "      <th>V2</th>\n",
              "      <th>V3</th>\n",
              "      <th>V4</th>\n",
              "      <th>V5</th>\n",
              "      <th>V6</th>\n",
              "      <th>V7</th>\n",
              "      <th>V8</th>\n",
              "      <th>V9</th>\n",
              "      <th>V10</th>\n",
              "      <th>V11</th>\n",
              "      <th>V12</th>\n",
              "      <th>V13</th>\n",
              "      <th>V14</th>\n",
              "      <th>V15</th>\n",
              "      <th>V16</th>\n",
              "      <th>V17</th>\n",
              "      <th>V18</th>\n",
              "      <th>V19</th>\n",
              "      <th>V20</th>\n",
              "      <th>V21</th>\n",
              "      <th>V22</th>\n",
              "      <th>V23</th>\n",
              "      <th>V24</th>\n",
              "      <th>V25</th>\n",
              "      <th>V26</th>\n",
              "      <th>V27</th>\n",
              "      <th>V28</th>\n",
              "      <th>Amount</th>\n",
              "    </tr>\n",
              "  </thead>\n",
              "  <tbody>\n",
              "    <tr>\n",
              "      <th>27733</th>\n",
              "      <td>34681.0</td>\n",
              "      <td>-0.231080</td>\n",
              "      <td>-3.201858</td>\n",
              "      <td>-0.674366</td>\n",
              "      <td>-0.976167</td>\n",
              "      <td>-1.302294</td>\n",
              "      <td>0.626642</td>\n",
              "      <td>0.277071</td>\n",
              "      <td>-0.024488</td>\n",
              "      <td>1.983596</td>\n",
              "      <td>-1.567688</td>\n",
              "      <td>-1.470701</td>\n",
              "      <td>0.228726</td>\n",
              "      <td>0.127372</td>\n",
              "      <td>-0.047581</td>\n",
              "      <td>1.818809</td>\n",
              "      <td>-0.187143</td>\n",
              "      <td>-0.266773</td>\n",
              "      <td>0.402481</td>\n",
              "      <td>0.588390</td>\n",
              "      <td>1.554458</td>\n",
              "      <td>0.534381</td>\n",
              "      <td>0.005080</td>\n",
              "      <td>-0.955780</td>\n",
              "      <td>-1.220134</td>\n",
              "      <td>0.293517</td>\n",
              "      <td>0.145976</td>\n",
              "      <td>-0.094032</td>\n",
              "      <td>0.145491</td>\n",
              "      <td>810.00</td>\n",
              "    </tr>\n",
              "    <tr>\n",
              "      <th>58505</th>\n",
              "      <td>48420.0</td>\n",
              "      <td>-0.295889</td>\n",
              "      <td>2.179398</td>\n",
              "      <td>-2.701905</td>\n",
              "      <td>1.295084</td>\n",
              "      <td>0.964631</td>\n",
              "      <td>-1.468709</td>\n",
              "      <td>0.915544</td>\n",
              "      <td>-0.131907</td>\n",
              "      <td>0.844712</td>\n",
              "      <td>0.283725</td>\n",
              "      <td>-0.169071</td>\n",
              "      <td>-1.751932</td>\n",
              "      <td>-1.606523</td>\n",
              "      <td>-3.648170</td>\n",
              "      <td>1.414963</td>\n",
              "      <td>1.047864</td>\n",
              "      <td>2.529540</td>\n",
              "      <td>1.899782</td>\n",
              "      <td>-0.199934</td>\n",
              "      <td>0.531109</td>\n",
              "      <td>-0.419695</td>\n",
              "      <td>-0.499968</td>\n",
              "      <td>0.023681</td>\n",
              "      <td>-0.857532</td>\n",
              "      <td>-0.217494</td>\n",
              "      <td>-0.378829</td>\n",
              "      <td>0.221622</td>\n",
              "      <td>-0.228443</td>\n",
              "      <td>26.99</td>\n",
              "    </tr>\n",
              "    <tr>\n",
              "      <th>231716</th>\n",
              "      <td>146896.0</td>\n",
              "      <td>-1.233770</td>\n",
              "      <td>0.550555</td>\n",
              "      <td>0.149961</td>\n",
              "      <td>-0.533041</td>\n",
              "      <td>2.583473</td>\n",
              "      <td>-0.171465</td>\n",
              "      <td>1.439288</td>\n",
              "      <td>-0.056200</td>\n",
              "      <td>-1.436514</td>\n",
              "      <td>-0.663711</td>\n",
              "      <td>-0.112824</td>\n",
              "      <td>0.451519</td>\n",
              "      <td>0.615698</td>\n",
              "      <td>0.612486</td>\n",
              "      <td>-0.954910</td>\n",
              "      <td>0.372047</td>\n",
              "      <td>-1.394278</td>\n",
              "      <td>0.487872</td>\n",
              "      <td>-0.229573</td>\n",
              "      <td>0.217847</td>\n",
              "      <td>0.107964</td>\n",
              "      <td>-0.085211</td>\n",
              "      <td>-0.458799</td>\n",
              "      <td>-0.361393</td>\n",
              "      <td>1.408680</td>\n",
              "      <td>-0.546275</td>\n",
              "      <td>-0.062782</td>\n",
              "      <td>0.042367</td>\n",
              "      <td>60.00</td>\n",
              "    </tr>\n",
              "    <tr>\n",
              "      <th>123042</th>\n",
              "      <td>76786.0</td>\n",
              "      <td>1.192163</td>\n",
              "      <td>0.338580</td>\n",
              "      <td>0.421319</td>\n",
              "      <td>0.716534</td>\n",
              "      <td>-0.316889</td>\n",
              "      <td>-0.782785</td>\n",
              "      <td>0.034351</td>\n",
              "      <td>-0.102277</td>\n",
              "      <td>-0.037231</td>\n",
              "      <td>-0.335346</td>\n",
              "      <td>0.495575</td>\n",
              "      <td>0.581400</td>\n",
              "      <td>0.438226</td>\n",
              "      <td>-0.297419</td>\n",
              "      <td>1.290221</td>\n",
              "      <td>0.077458</td>\n",
              "      <td>0.374874</td>\n",
              "      <td>-0.889991</td>\n",
              "      <td>-0.681133</td>\n",
              "      <td>-0.106350</td>\n",
              "      <td>-0.235795</td>\n",
              "      <td>-0.631416</td>\n",
              "      <td>0.196427</td>\n",
              "      <td>0.367923</td>\n",
              "      <td>0.109944</td>\n",
              "      <td>0.103053</td>\n",
              "      <td>-0.004102</td>\n",
              "      <td>0.031178</td>\n",
              "      <td>0.89</td>\n",
              "    </tr>\n",
              "    <tr>\n",
              "      <th>215839</th>\n",
              "      <td>140239.0</td>\n",
              "      <td>0.135040</td>\n",
              "      <td>0.252836</td>\n",
              "      <td>0.877346</td>\n",
              "      <td>-0.661467</td>\n",
              "      <td>-0.021139</td>\n",
              "      <td>0.146843</td>\n",
              "      <td>0.261205</td>\n",
              "      <td>0.075865</td>\n",
              "      <td>0.457041</td>\n",
              "      <td>-0.738186</td>\n",
              "      <td>-1.086528</td>\n",
              "      <td>0.504293</td>\n",
              "      <td>1.145290</td>\n",
              "      <td>-0.629642</td>\n",
              "      <td>-0.099231</td>\n",
              "      <td>0.318984</td>\n",
              "      <td>-0.668679</td>\n",
              "      <td>0.024767</td>\n",
              "      <td>-0.515213</td>\n",
              "      <td>0.021391</td>\n",
              "      <td>0.304161</td>\n",
              "      <td>0.994559</td>\n",
              "      <td>0.000093</td>\n",
              "      <td>0.691837</td>\n",
              "      <td>-0.399797</td>\n",
              "      <td>0.640899</td>\n",
              "      <td>0.004513</td>\n",
              "      <td>0.012159</td>\n",
              "      <td>47.59</td>\n",
              "    </tr>\n",
              "  </tbody>\n",
              "</table>\n",
              "</div>"
            ],
            "text/plain": [
              "            Time        V1        V2  ...       V27       V28  Amount\n",
              "27733    34681.0 -0.231080 -3.201858  ... -0.094032  0.145491  810.00\n",
              "58505    48420.0 -0.295889  2.179398  ...  0.221622 -0.228443   26.99\n",
              "231716  146896.0 -1.233770  0.550555  ... -0.062782  0.042367   60.00\n",
              "123042   76786.0  1.192163  0.338580  ... -0.004102  0.031178    0.89\n",
              "215839  140239.0  0.135040  0.252836  ...  0.004513  0.012159   47.59\n",
              "\n",
              "[5 rows x 30 columns]"
            ]
          },
          "metadata": {
            "tags": []
          },
          "execution_count": 7
        }
      ]
    },
    {
      "cell_type": "code",
      "metadata": {
        "id": "SrFT7vhP8iO1",
        "colab_type": "code",
        "colab": {}
      },
      "source": [
        "from sklearn.metrics import jaccard_similarity_score\n",
        "from sklearn.metrics import f1_score\n",
        "from sklearn.metrics import classification_report,accuracy_score"
      ],
      "execution_count": 8,
      "outputs": []
    },
    {
      "cell_type": "code",
      "metadata": {
        "id": "Mfj8_Vem703Q",
        "colab_type": "code",
        "colab": {}
      },
      "source": [
        "#Spliting data\n",
        "from sklearn.model_selection import train_test_split\n",
        "X_train,X_test,y_train,y_test= train_test_split(X,y,test_size=0.25,random_state=5)"
      ],
      "execution_count": 9,
      "outputs": []
    },
    {
      "cell_type": "code",
      "metadata": {
        "id": "LmGzdFrR9BRD",
        "colab_type": "code",
        "colab": {
          "base_uri": "https://localhost:8080/",
          "height": 331
        },
        "outputId": "aa7dbae2-ba09-45f3-848a-793b4a4a6a8b"
      },
      "source": [
        "#K-NN\n",
        "from sklearn.neighbors import KNeighborsClassifier\n",
        "k = 9 \n",
        "classifier_KNN = KNeighborsClassifier(n_neighbors = k).fit(X_train,y_train)\n",
        "y_KNNpredict=classifier_KNN.predict(X_test)\n",
        "\n",
        "print(\"Train set Accuracy: \", accuracy_score(y_train, classifier_KNN.predict(X_train)))\n",
        "print(\"Test set Accuracy: \", accuracy_score(y_test, y_KNNpredict))\n",
        "\n",
        "print(\"Jaccard_Score\",jaccard_similarity_score(y_test, y_KNNpredict))\n",
        "print(\"ClassificationReoprt\",classification_report(y_test, y_KNNpredict))"
      ],
      "execution_count": 10,
      "outputs": [
        {
          "output_type": "stream",
          "text": [
            "Train set Accuracy:  0.9983801953128657\n",
            "Test set Accuracy:  0.9981461194910255\n",
            "Jaccard_Score 0.9981461194910255\n",
            "ClassificationReoprt               precision    recall  f1-score   support\n",
            "\n",
            "           0       1.00      1.00      1.00     35535\n",
            "           1       0.00      0.00      0.00        66\n",
            "\n",
            "    accuracy                           1.00     35601\n",
            "   macro avg       0.50      0.50      0.50     35601\n",
            "weighted avg       1.00      1.00      1.00     35601\n",
            "\n"
          ],
          "name": "stdout"
        },
        {
          "output_type": "stream",
          "text": [
            "/usr/local/lib/python3.6/dist-packages/sklearn/metrics/_classification.py:664: FutureWarning: jaccard_similarity_score has been deprecated and replaced with jaccard_score. It will be removed in version 0.23. This implementation has surprising behavior for binary and multiclass classification tasks.\n",
            "  FutureWarning)\n",
            "/usr/local/lib/python3.6/dist-packages/sklearn/metrics/_classification.py:1272: UndefinedMetricWarning: Precision and F-score are ill-defined and being set to 0.0 in labels with no predicted samples. Use `zero_division` parameter to control this behavior.\n",
            "  _warn_prf(average, modifier, msg_start, len(result))\n"
          ],
          "name": "stderr"
        }
      ]
    },
    {
      "cell_type": "code",
      "metadata": {
        "id": "Mf2NCHLWGVMY",
        "colab_type": "code",
        "colab": {
          "base_uri": "https://localhost:8080/",
          "height": 331
        },
        "outputId": "090028b0-f050-49be-9e84-2b43d8c12a88"
      },
      "source": [
        "#SUPPORT VECTOR \n",
        "from sklearn.svm import SVC\n",
        "classifier_SVM=SVC(kernel='rbf',random_state=5).fit(X_test,y_test)\n",
        "y_pred_SVM=classifier_SVM.predict(X_test)\n",
        "\n",
        "print(\"Train set Accuracy: \", accuracy_score(y_train, classifier_SVM.predict(X_train)))\n",
        "print(\"Test set Accuracy: \", accuracy_score(y_test, y_pred_SVM))\n",
        "\n",
        "print(\"Jaccard_Score\",jaccard_similarity_score(y_test, y_pred_SVM))\n",
        "print(\"Classification\",classification_report(y_test, y_pred_SVM))"
      ],
      "execution_count": 11,
      "outputs": [
        {
          "output_type": "stream",
          "text": [
            "Train set Accuracy:  0.9983801953128657\n",
            "Test set Accuracy:  0.9981461194910255\n",
            "Jaccard_Score 0.9981461194910255\n",
            "Classification               precision    recall  f1-score   support\n",
            "\n",
            "           0       1.00      1.00      1.00     35535\n",
            "           1       0.00      0.00      0.00        66\n",
            "\n",
            "    accuracy                           1.00     35601\n",
            "   macro avg       0.50      0.50      0.50     35601\n",
            "weighted avg       1.00      1.00      1.00     35601\n",
            "\n"
          ],
          "name": "stdout"
        },
        {
          "output_type": "stream",
          "text": [
            "/usr/local/lib/python3.6/dist-packages/sklearn/metrics/_classification.py:664: FutureWarning: jaccard_similarity_score has been deprecated and replaced with jaccard_score. It will be removed in version 0.23. This implementation has surprising behavior for binary and multiclass classification tasks.\n",
            "  FutureWarning)\n",
            "/usr/local/lib/python3.6/dist-packages/sklearn/metrics/_classification.py:1272: UndefinedMetricWarning: Precision and F-score are ill-defined and being set to 0.0 in labels with no predicted samples. Use `zero_division` parameter to control this behavior.\n",
            "  _warn_prf(average, modifier, msg_start, len(result))\n"
          ],
          "name": "stderr"
        }
      ]
    }
  ]
}